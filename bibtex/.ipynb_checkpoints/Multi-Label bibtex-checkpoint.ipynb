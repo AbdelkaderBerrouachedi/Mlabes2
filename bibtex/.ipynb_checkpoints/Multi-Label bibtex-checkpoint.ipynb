{
 "cells": [
  {
   "cell_type": "code",
   "execution_count": 1,
   "metadata": {},
   "outputs": [],
   "source": [
    "import warnings\n",
    "warnings.filterwarnings(\"ignore\")"
   ]
  },
  {
   "cell_type": "code",
   "execution_count": null,
   "metadata": {},
   "outputs": [],
   "source": []
  },
  {
   "cell_type": "code",
   "execution_count": 2,
   "metadata": {},
   "outputs": [],
   "source": [
    "# https://towardsdatascience.com/multi-label-text-classification-5c505fdedca8#--responses\n",
    "import matplotlib.pyplot as plt\n",
    "from itertools import cycle\n",
    "from sklearn.linear_model import LogisticRegression\n",
    "from sklearn.pipeline import Pipeline\n",
    "from sklearn.metrics import accuracy_score\n",
    "from sklearn.multiclass import OneVsRestClassifier\n",
    "from sklearn import svm, datasets\n",
    "from sklearn.model_selection import train_test_split\n",
    "from sklearn.preprocessing import label_binarize\n",
    "from sklearn.multiclass import OneVsRestClassifier\n",
    "from scipy import interp\n",
    "from sklearn.metrics import roc_auc_score\n",
    "import pandas as pd\n",
    "import numpy as np\n",
    "import json\n",
    "import nltk\n",
    "from nltk.corpus import stopwords\n",
    "from nltk.stem.snowball import SnowballStemmer\n",
    "from bs4 import BeautifulSoup\n",
    "import re\n",
    "import csv\n",
    "from sklearn.metrics import *\n",
    "from tqdm import tqdm\n",
    "from sklearn.model_selection import train_test_split\n",
    "from sklearn.feature_extraction.text import TfidfVectorizer\n",
    "from skmultilearn.problem_transform import BinaryRelevance\n",
    "from sklearn.naive_bayes import GaussianNB\n",
    "from skmultilearn.problem_transform import ClassifierChain\n",
    "from sklearn.linear_model import LogisticRegression\n",
    "from skmultilearn.problem_transform import LabelPowerset\n",
    "from skmultilearn.adapt import MLkNN\n",
    "from scipy.sparse import csr_matrix, lil_matrix\n",
    "from sklearn.preprocessing import MultiLabelBinarizer\n",
    "import pickle\n",
    "from sklearn.svm import SVC\n",
    "import numpy\n",
    "from skmultilearn.dataset import load_dataset"
   ]
  },
  {
   "cell_type": "code",
   "execution_count": 3,
   "metadata": {},
   "outputs": [],
   "source": [
    "# list of metrics\n",
    "Evals = []"
   ]
  },
  {
   "cell_type": "code",
   "execution_count": 4,
   "metadata": {},
   "outputs": [
    {
     "data": {
      "text/plain": [
       "(7395, 1995)"
      ]
     },
     "execution_count": 4,
     "metadata": {},
     "output_type": "execute_result"
    }
   ],
   "source": [
    "# Read data from file 'filename.csv' \n",
    "# (in the same directory that your python process is based)\n",
    "# Control delimiters, rows, column names with read_csv (see later) \n",
    "data = pd.read_csv(\"bibtex.csv\") \n",
    "# Preview the first 5 lines of the loaded data \n",
    "data.shape"
   ]
  },
  {
   "cell_type": "code",
   "execution_count": 5,
   "metadata": {},
   "outputs": [],
   "source": [
    "# X_train, y_train\n",
    "y = data.iloc[:,-159:]\n",
    "X = data.iloc[:,:-159]\n",
    "X = X.values\n",
    "y = y.values\n",
    "\n",
    "X_train, X_test, y_train, y_test = train_test_split(X, y, test_size=0.33)"
   ]
  },
  {
   "cell_type": "markdown",
   "metadata": {},
   "source": [
    "# 3. Multi-Label Classification\n"
   ]
  },
  {
   "cell_type": "markdown",
   "metadata": {},
   "source": [
    "## 3.1. Multiple Binary Classifications - (Binary Relevance)\n"
   ]
  },
  {
   "cell_type": "markdown",
   "metadata": {},
   "source": [
    "### 3.1.1  BinaryRelevance MLP"
   ]
  },
  {
   "cell_type": "code",
   "execution_count": 6,
   "metadata": {},
   "outputs": [
    {
     "name": "stderr",
     "output_type": "stream",
     "text": [
      "Using TensorFlow backend.\n"
     ]
    }
   ],
   "source": [
    "from keras.models import Sequential\n",
    "from keras.layers import Dense\n",
    "\n",
    "def create_model_single_class(input_dim, output_dim):\n",
    "    # create model\n",
    "    model = Sequential()\n",
    "    model.add(Dense(12, input_dim=input_dim, activation='relu'))\n",
    "    model.add(Dense(8, activation='relu'))\n",
    "    model.add(Dense(output_dim, activation='sigmoid'))\n",
    "    # Compile model\n",
    "    model.compile(loss='binary_crossentropy', optimizer='adam', metrics=['accuracy'])\n",
    "    return model"
   ]
  },
  {
   "cell_type": "code",
   "execution_count": null,
   "metadata": {},
   "outputs": [],
   "source": [
    "from skmultilearn.problem_transform import BinaryRelevance\n",
    "from skmultilearn.ext import Keras\n",
    "KERAS_PARAMS = dict(epochs=10, batch_size=100, verbose=0)\n",
    "clf = BinaryRelevance(classifier=Keras(create_model_single_class, False, KERAS_PARAMS), require_dense=[True,True])\n",
    "clf.fit(X_train, y_train)\n",
    "result = clf.predict(X_test)\n",
    "print(\"BinaryReKeras Accuracy = \",accuracy_score(y_test,result.toarray()))\n",
    "print(\"BinaryReKeras Precision = \",precision_score(y_test,result, average='micro'))\n",
    "print(\"BinaryReKeras Recall = \",recall_score(y_test,result, average='micro'))\n",
    "print(\"BinaryReKeras F1_score = \",f1_score(y_test,result, average='micro'))\n",
    "print(\"BinaryReKeras Hamming loss = \",hamming_loss(y_test,result))\n",
    "\n",
    "Eval1 = ['BinaryRelevance_Keras',accuracy_score(y_test,result.toarray())*100,hamming_loss(y_test,result)*100]\n",
    "Evals.append(Eval1)"
   ]
  },
  {
   "cell_type": "markdown",
   "metadata": {},
   "source": [
    "### 3.1.2  BinaryRelevance SVM"
   ]
  },
  {
   "cell_type": "code",
   "execution_count": 20,
   "metadata": {},
   "outputs": [
    {
     "ename": "ValueError",
     "evalue": "The number of classes has to be greater than one; got 1 class",
     "output_type": "error",
     "traceback": [
      "\u001b[1;31m---------------------------------------------------------------------------\u001b[0m",
      "\u001b[1;31mValueError\u001b[0m                                Traceback (most recent call last)",
      "\u001b[1;32m<ipython-input-20-fe216c1e24a4>\u001b[0m in \u001b[0;36m<module>\u001b[1;34m\u001b[0m\n\u001b[0;32m      7\u001b[0m \u001b[0mclassifier\u001b[0m \u001b[1;33m=\u001b[0m \u001b[0mBinaryRelevance\u001b[0m\u001b[1;33m(\u001b[0m\u001b[0mclassifier\u001b[0m\u001b[1;33m=\u001b[0m\u001b[0mSVC\u001b[0m\u001b[1;33m(\u001b[0m\u001b[1;33m)\u001b[0m\u001b[1;33m,\u001b[0m \u001b[0mrequire_dense\u001b[0m\u001b[1;33m=\u001b[0m\u001b[1;33m[\u001b[0m\u001b[1;32mFalse\u001b[0m\u001b[1;33m,\u001b[0m\u001b[1;32mTrue\u001b[0m\u001b[1;33m]\u001b[0m\u001b[1;33m)\u001b[0m\u001b[1;33m\u001b[0m\u001b[1;33m\u001b[0m\u001b[0m\n\u001b[0;32m      8\u001b[0m \u001b[1;31m# Train\u001b[0m\u001b[1;33m\u001b[0m\u001b[1;33m\u001b[0m\u001b[1;33m\u001b[0m\u001b[0m\n\u001b[1;32m----> 9\u001b[1;33m \u001b[0mclassifier\u001b[0m\u001b[1;33m.\u001b[0m\u001b[0mfit\u001b[0m\u001b[1;33m(\u001b[0m\u001b[0mX_train\u001b[0m\u001b[1;33m,\u001b[0m \u001b[0my_train\u001b[0m\u001b[1;33m)\u001b[0m\u001b[1;33m\u001b[0m\u001b[1;33m\u001b[0m\u001b[0m\n\u001b[0m\u001b[0;32m     10\u001b[0m \u001b[1;31m# Predict\u001b[0m\u001b[1;33m\u001b[0m\u001b[1;33m\u001b[0m\u001b[1;33m\u001b[0m\u001b[0m\n\u001b[0;32m     11\u001b[0m \u001b[0my_pred\u001b[0m \u001b[1;33m=\u001b[0m \u001b[0mclassifier\u001b[0m\u001b[1;33m.\u001b[0m\u001b[0mpredict\u001b[0m\u001b[1;33m(\u001b[0m\u001b[0mX_test\u001b[0m\u001b[1;33m)\u001b[0m\u001b[1;33m\u001b[0m\u001b[1;33m\u001b[0m\u001b[0m\n",
      "\u001b[1;32m~\\AppData\\Local\\Continuum\\anaconda3\\lib\\site-packages\\skmultilearn\\problem_transform\\br.py\u001b[0m in \u001b[0;36mfit\u001b[1;34m(self, X, y)\u001b[0m\n\u001b[0;32m    160\u001b[0m                 \u001b[0my_subset\u001b[0m \u001b[1;33m=\u001b[0m \u001b[0mnp\u001b[0m\u001b[1;33m.\u001b[0m\u001b[0mravel\u001b[0m\u001b[1;33m(\u001b[0m\u001b[0my_subset\u001b[0m\u001b[1;33m.\u001b[0m\u001b[0mtoarray\u001b[0m\u001b[1;33m(\u001b[0m\u001b[1;33m)\u001b[0m\u001b[1;33m)\u001b[0m\u001b[1;33m\u001b[0m\u001b[1;33m\u001b[0m\u001b[0m\n\u001b[0;32m    161\u001b[0m             classifier.fit(self._ensure_input_format(\n\u001b[1;32m--> 162\u001b[1;33m                 X), self._ensure_output_format(y_subset))\n\u001b[0m\u001b[0;32m    163\u001b[0m             \u001b[0mself\u001b[0m\u001b[1;33m.\u001b[0m\u001b[0mclassifiers_\u001b[0m\u001b[1;33m.\u001b[0m\u001b[0mappend\u001b[0m\u001b[1;33m(\u001b[0m\u001b[0mclassifier\u001b[0m\u001b[1;33m)\u001b[0m\u001b[1;33m\u001b[0m\u001b[1;33m\u001b[0m\u001b[0m\n\u001b[0;32m    164\u001b[0m \u001b[1;33m\u001b[0m\u001b[0m\n",
      "\u001b[1;32m~\\AppData\\Local\\Continuum\\anaconda3\\lib\\site-packages\\sklearn\\svm\\base.py\u001b[0m in \u001b[0;36mfit\u001b[1;34m(self, X, y, sample_weight)\u001b[0m\n\u001b[0;32m    145\u001b[0m                          \u001b[0morder\u001b[0m\u001b[1;33m=\u001b[0m\u001b[1;34m'C'\u001b[0m\u001b[1;33m,\u001b[0m \u001b[0maccept_sparse\u001b[0m\u001b[1;33m=\u001b[0m\u001b[1;34m'csr'\u001b[0m\u001b[1;33m,\u001b[0m\u001b[1;33m\u001b[0m\u001b[1;33m\u001b[0m\u001b[0m\n\u001b[0;32m    146\u001b[0m                          accept_large_sparse=False)\n\u001b[1;32m--> 147\u001b[1;33m         \u001b[0my\u001b[0m \u001b[1;33m=\u001b[0m \u001b[0mself\u001b[0m\u001b[1;33m.\u001b[0m\u001b[0m_validate_targets\u001b[0m\u001b[1;33m(\u001b[0m\u001b[0my\u001b[0m\u001b[1;33m)\u001b[0m\u001b[1;33m\u001b[0m\u001b[1;33m\u001b[0m\u001b[0m\n\u001b[0m\u001b[0;32m    148\u001b[0m \u001b[1;33m\u001b[0m\u001b[0m\n\u001b[0;32m    149\u001b[0m         sample_weight = np.asarray([]\n",
      "\u001b[1;32m~\\AppData\\Local\\Continuum\\anaconda3\\lib\\site-packages\\sklearn\\svm\\base.py\u001b[0m in \u001b[0;36m_validate_targets\u001b[1;34m(self, y)\u001b[0m\n\u001b[0;32m    519\u001b[0m             raise ValueError(\n\u001b[0;32m    520\u001b[0m                 \u001b[1;34m\"The number of classes has to be greater than one; got %d\"\u001b[0m\u001b[1;33m\u001b[0m\u001b[1;33m\u001b[0m\u001b[0m\n\u001b[1;32m--> 521\u001b[1;33m                 \" class\" % len(cls))\n\u001b[0m\u001b[0;32m    522\u001b[0m \u001b[1;33m\u001b[0m\u001b[0m\n\u001b[0;32m    523\u001b[0m         \u001b[0mself\u001b[0m\u001b[1;33m.\u001b[0m\u001b[0mclasses_\u001b[0m \u001b[1;33m=\u001b[0m \u001b[0mcls\u001b[0m\u001b[1;33m\u001b[0m\u001b[1;33m\u001b[0m\u001b[0m\n",
      "\u001b[1;31mValueError\u001b[0m: The number of classes has to be greater than one; got 1 class"
     ]
    }
   ],
   "source": [
    "# initialize Binary Relevance multi-label classifier\n",
    "# with an SVM classifier\n",
    "# SVM in scikit only supports the X matrix in sparse representation\n",
    "# Import BinaryRelevance from skmultilearn\n",
    "# Import SVC classifier from sklearn\n",
    "# Setup the classifier\n",
    "classifier = BinaryRelevance(classifier=SVC(), require_dense=[False,True])\n",
    "# Train\n",
    "classifier.fit(X_train, y_train)\n",
    "# Predict\n",
    "y_pred = classifier.predict(X_test)\n",
    "\n",
    "print(\"BinaryReSVC Accuracy = \",accuracy_score(y_test,y_pred.toarray()))\n",
    "print(\"BinaryReSVC Precision = \",precision_score(y_test,y_pred, average='micro'))\n",
    "print(\"BinaryReSVC Recall = \",recall_score(y_test,y_pred, average='micro'))\n",
    "print(\"BinaryReSVC F1_score = \",f1_score(y_test,y_pred, average='micro'))\n",
    "print(\"BinaryReSVC Hamming loss = \",hamming_loss(y_test,y_pred))\n",
    "\n",
    "\n",
    "Eval2 = ['BinaryRelevance_SVM',accuracy_score(y_test,y_pred.toarray())*100,hamming_loss(y_test,y_pred)*100]\n",
    "Evals.append(Eval2)"
   ]
  },
  {
   "cell_type": "markdown",
   "metadata": {},
   "source": [
    "### 3.1.3  BinaryRelevance GaussianNB"
   ]
  },
  {
   "cell_type": "code",
   "execution_count": 21,
   "metadata": {},
   "outputs": [
    {
     "name": "stdout",
     "output_type": "stream",
     "text": [
      "BinaryReGaussianNB Accuracy =  0.17647058823529413\n",
      "BinaryReGaussianNB Precision =  0.3903002309468822\n",
      "BinaryReGaussianNB Recall =  0.41728395061728396\n",
      "BinaryReGaussianNB F1_score =  0.4033412887828162\n",
      "BinaryReGaussianNB Hamming loss =  0.03439972480220158\n"
     ]
    }
   ],
   "source": [
    "#Binary Relevance GaussianNB\n",
    "BinaryReGaussianNB = BinaryRelevance(GaussianNB())\n",
    "BinaryReGaussianNB.fit(X_train,y_train)\n",
    "br_predictions = BinaryReGaussianNB.predict(X_test)\n",
    "\n",
    "print(\"BinaryReGaussianNB Accuracy = \",accuracy_score(y_test,br_predictions.toarray()))\n",
    "print(\"BinaryReGaussianNB Precision = \",precision_score(y_test,br_predictions, average='micro'))\n",
    "print(\"BinaryReGaussianNB Recall = \",recall_score(y_test,br_predictions, average='micro'))\n",
    "print(\"BinaryReGaussianNB F1_score = \",f1_score(y_test,br_predictions, average='micro'))\n",
    "print(\"BinaryReGaussianNB Hamming loss = \",hamming_loss(y_test,br_predictions))\n",
    "\n",
    "\n",
    "Eval3 = ['BinaryRelevance_GaussianNB',accuracy_score(y_test,br_predictions.toarray())*100,hamming_loss(y_test,br_predictions)*100]\n",
    "Evals.append(Eval3)"
   ]
  },
  {
   "cell_type": "code",
   "execution_count": null,
   "metadata": {},
   "outputs": [],
   "source": []
  },
  {
   "cell_type": "markdown",
   "metadata": {},
   "source": [
    "## 3.2. Label Powerset\n"
   ]
  },
  {
   "cell_type": "code",
   "execution_count": 22,
   "metadata": {},
   "outputs": [
    {
     "name": "stdout",
     "output_type": "stream",
     "text": [
      "LabelPowerset Accuracy =  0.6811145510835913\n",
      "LabelPowerset Precision =  0.828169014084507\n",
      "LabelPowerset Recall =  0.725925925925926\n",
      "LabelPowerset F1_score =  0.7736842105263158\n",
      "LabelPowerset Hamming loss =  0.011833505331957345\n"
     ]
    }
   ],
   "source": [
    "## initialize label powerset multi-label classifier\n",
    "lp_classifier = LabelPowerset(LogisticRegression())\n",
    "lp_classifier.fit(X_train, y_train)\n",
    "lp_predictions = lp_classifier.predict(X_test)\n",
    "\n",
    "print(\"LabelPowerset Accuracy = \",accuracy_score(y_test,lp_predictions.toarray()))\n",
    "print(\"LabelPowerset Precision = \",precision_score(y_test,lp_predictions, average='micro'))\n",
    "print(\"LabelPowerset Recall = \",recall_score(y_test,lp_predictions, average='micro'))\n",
    "print(\"LabelPowerset F1_score = \",f1_score(y_test,lp_predictions, average='micro'))\n",
    "print(\"LabelPowerset Hamming loss = \",hamming_loss(y_test,lp_predictions))\n",
    "\n",
    "Eval4 = ['LabelPowerset_LogisticRegression',accuracy_score(y_test,lp_predictions)*100,hamming_loss(y_test,lp_predictions)*100,\n",
    "        f1_score(y_test,lp_predictions, average=\"micro\")*100,]\n",
    "Evals.append(Eval4)"
   ]
  },
  {
   "cell_type": "code",
   "execution_count": null,
   "metadata": {},
   "outputs": [],
   "source": []
  },
  {
   "cell_type": "markdown",
   "metadata": {},
   "source": [
    "# 3.3. Adapted Algorithm\n"
   ]
  },
  {
   "cell_type": "code",
   "execution_count": 23,
   "metadata": {},
   "outputs": [
    {
     "name": "stdout",
     "output_type": "stream",
     "text": [
      "MLkNN Accuracy =  0.541795665634675\n",
      "MLkNN Precision =  0.822742474916388\n",
      "MLkNN Recall =  0.6074074074074074\n",
      "MLkNN F1_score =  0.6988636363636362\n",
      "MLkNN Hamming loss =  0.014585483316133472\n"
     ]
    }
   ],
   "source": [
    "#MLkNN\n",
    "# Adapted Algorithm¶\n",
    "# http://scikit.ml/api/api/skmultilearn.adapt.html#skmultilearn.adapt.MLkNN\n",
    "\n",
    "ml_classifier = MLkNN(k=10)\n",
    "# to prevent errors when handling sparse matrices.\n",
    "X_train = lil_matrix(X_train).toarray()\n",
    "y_train = lil_matrix(y_train).toarray()\n",
    "X_test = lil_matrix(X_test).toarray()\n",
    "ml_classifier.fit(X_train, y_train)\n",
    "# predict\n",
    "ml_predictions = ml_classifier.predict(X_test)\n",
    "# accuracy\n",
    "print(\"MLkNN Accuracy = \",accuracy_score(y_test,ml_predictions.toarray()))\n",
    "print(\"MLkNN Precision = \",precision_score(y_test,ml_predictions, average='micro'))\n",
    "print(\"MLkNN Recall = \",recall_score(y_test,ml_predictions, average='micro'))\n",
    "print(\"MLkNN F1_score = \",f1_score(y_test,ml_predictions, average='micro'))\n",
    "print(\"MLkNN Hamming loss = \",hamming_loss(y_test,ml_predictions))\n",
    "\n",
    "Eval5 = ['Adapted_Algorithm_MLkNN',accuracy_score(y_test,ml_predictions)*100,hamming_loss(y_test,ml_predictions)*100,\n",
    "        f1_score(y_test,ml_predictions, average=\"micro\")*100,]\n",
    "Evals.append(Eval5)"
   ]
  },
  {
   "cell_type": "code",
   "execution_count": null,
   "metadata": {},
   "outputs": [],
   "source": []
  },
  {
   "cell_type": "markdown",
   "metadata": {},
   "source": [
    "## 3.4. Classifier Chains\n"
   ]
  },
  {
   "cell_type": "code",
   "execution_count": 24,
   "metadata": {},
   "outputs": [
    {
     "ename": "ValueError",
     "evalue": "This solver needs samples of at least 2 classes in the data, but the data contains only one class: 0",
     "output_type": "error",
     "traceback": [
      "\u001b[1;31m---------------------------------------------------------------------------\u001b[0m",
      "\u001b[1;31mValueError\u001b[0m                                Traceback (most recent call last)",
      "\u001b[1;32m<ipython-input-24-d330b1de7d89>\u001b[0m in \u001b[0;36m<module>\u001b[1;34m\u001b[0m\n\u001b[0;32m      1\u001b[0m \u001b[1;31m#for the next classifier we need to remove from y-train, y-test categories which equal 0 for all train samples\u001b[0m\u001b[1;33m\u001b[0m\u001b[1;33m\u001b[0m\u001b[1;33m\u001b[0m\u001b[0m\n\u001b[0;32m      2\u001b[0m \u001b[0mcc_classifier\u001b[0m \u001b[1;33m=\u001b[0m \u001b[0mClassifierChain\u001b[0m\u001b[1;33m(\u001b[0m\u001b[0mLogisticRegression\u001b[0m\u001b[1;33m(\u001b[0m\u001b[0msolver\u001b[0m\u001b[1;33m=\u001b[0m\u001b[1;34m'warn'\u001b[0m\u001b[1;33m)\u001b[0m\u001b[1;33m)\u001b[0m\u001b[1;33m\u001b[0m\u001b[1;33m\u001b[0m\u001b[0m\n\u001b[1;32m----> 3\u001b[1;33m \u001b[0mcc_classifier\u001b[0m\u001b[1;33m.\u001b[0m\u001b[0mfit\u001b[0m\u001b[1;33m(\u001b[0m\u001b[0mX_train\u001b[0m\u001b[1;33m,\u001b[0m \u001b[0my_train\u001b[0m\u001b[1;33m)\u001b[0m\u001b[1;33m\u001b[0m\u001b[1;33m\u001b[0m\u001b[0m\n\u001b[0m\u001b[0;32m      4\u001b[0m \u001b[0mcc_predictions_proba\u001b[0m \u001b[1;33m=\u001b[0m \u001b[0mcc_classifier\u001b[0m\u001b[1;33m.\u001b[0m\u001b[0mpredict_proba\u001b[0m\u001b[1;33m(\u001b[0m\u001b[0mX_test\u001b[0m\u001b[1;33m)\u001b[0m\u001b[1;33m\u001b[0m\u001b[1;33m\u001b[0m\u001b[0m\n\u001b[0;32m      5\u001b[0m \u001b[1;31m#for plotting metrics as a function of threashold\u001b[0m\u001b[1;33m\u001b[0m\u001b[1;33m\u001b[0m\u001b[1;33m\u001b[0m\u001b[0m\n",
      "\u001b[1;32m~\\AppData\\Local\\Continuum\\anaconda3\\lib\\site-packages\\skmultilearn\\problem_transform\\cc.py\u001b[0m in \u001b[0;36mfit\u001b[1;34m(self, X, y, order)\u001b[0m\n\u001b[0;32m    153\u001b[0m \u001b[1;33m\u001b[0m\u001b[0m\n\u001b[0;32m    154\u001b[0m             self.classifiers_[label] = self.classifier.fit(self._ensure_input_format(\n\u001b[1;32m--> 155\u001b[1;33m                 X_extended), self._ensure_output_format(y_subset))\n\u001b[0m\u001b[0;32m    156\u001b[0m             \u001b[0mX_extended\u001b[0m \u001b[1;33m=\u001b[0m \u001b[0mhstack\u001b[0m\u001b[1;33m(\u001b[0m\u001b[1;33m[\u001b[0m\u001b[0mX_extended\u001b[0m\u001b[1;33m,\u001b[0m \u001b[0my_subset\u001b[0m\u001b[1;33m]\u001b[0m\u001b[1;33m)\u001b[0m\u001b[1;33m\u001b[0m\u001b[1;33m\u001b[0m\u001b[0m\n\u001b[0;32m    157\u001b[0m \u001b[1;33m\u001b[0m\u001b[0m\n",
      "\u001b[1;32m~\\AppData\\Local\\Continuum\\anaconda3\\lib\\site-packages\\sklearn\\linear_model\\logistic.py\u001b[0m in \u001b[0;36mfit\u001b[1;34m(self, X, y, sample_weight)\u001b[0m\n\u001b[0;32m   1547\u001b[0m                 \u001b[0mself\u001b[0m\u001b[1;33m.\u001b[0m\u001b[0mclass_weight\u001b[0m\u001b[1;33m,\u001b[0m \u001b[0mself\u001b[0m\u001b[1;33m.\u001b[0m\u001b[0mpenalty\u001b[0m\u001b[1;33m,\u001b[0m \u001b[0mself\u001b[0m\u001b[1;33m.\u001b[0m\u001b[0mdual\u001b[0m\u001b[1;33m,\u001b[0m \u001b[0mself\u001b[0m\u001b[1;33m.\u001b[0m\u001b[0mverbose\u001b[0m\u001b[1;33m,\u001b[0m\u001b[1;33m\u001b[0m\u001b[1;33m\u001b[0m\u001b[0m\n\u001b[0;32m   1548\u001b[0m                 \u001b[0mself\u001b[0m\u001b[1;33m.\u001b[0m\u001b[0mmax_iter\u001b[0m\u001b[1;33m,\u001b[0m \u001b[0mself\u001b[0m\u001b[1;33m.\u001b[0m\u001b[0mtol\u001b[0m\u001b[1;33m,\u001b[0m \u001b[0mself\u001b[0m\u001b[1;33m.\u001b[0m\u001b[0mrandom_state\u001b[0m\u001b[1;33m,\u001b[0m\u001b[1;33m\u001b[0m\u001b[1;33m\u001b[0m\u001b[0m\n\u001b[1;32m-> 1549\u001b[1;33m                 sample_weight=sample_weight)\n\u001b[0m\u001b[0;32m   1550\u001b[0m             \u001b[0mself\u001b[0m\u001b[1;33m.\u001b[0m\u001b[0mn_iter_\u001b[0m \u001b[1;33m=\u001b[0m \u001b[0mnp\u001b[0m\u001b[1;33m.\u001b[0m\u001b[0marray\u001b[0m\u001b[1;33m(\u001b[0m\u001b[1;33m[\u001b[0m\u001b[0mn_iter_\u001b[0m\u001b[1;33m]\u001b[0m\u001b[1;33m)\u001b[0m\u001b[1;33m\u001b[0m\u001b[1;33m\u001b[0m\u001b[0m\n\u001b[0;32m   1551\u001b[0m             \u001b[1;32mreturn\u001b[0m \u001b[0mself\u001b[0m\u001b[1;33m\u001b[0m\u001b[1;33m\u001b[0m\u001b[0m\n",
      "\u001b[1;32m~\\AppData\\Local\\Continuum\\anaconda3\\lib\\site-packages\\sklearn\\svm\\base.py\u001b[0m in \u001b[0;36m_fit_liblinear\u001b[1;34m(X, y, C, fit_intercept, intercept_scaling, class_weight, penalty, dual, verbose, max_iter, tol, random_state, multi_class, loss, epsilon, sample_weight)\u001b[0m\n\u001b[0;32m    877\u001b[0m             raise ValueError(\"This solver needs samples of at least 2 classes\"\n\u001b[0;32m    878\u001b[0m                              \u001b[1;34m\" in the data, but the data contains only one\"\u001b[0m\u001b[1;33m\u001b[0m\u001b[1;33m\u001b[0m\u001b[0m\n\u001b[1;32m--> 879\u001b[1;33m                              \" class: %r\" % classes_[0])\n\u001b[0m\u001b[0;32m    880\u001b[0m \u001b[1;33m\u001b[0m\u001b[0m\n\u001b[0;32m    881\u001b[0m         \u001b[0mclass_weight_\u001b[0m \u001b[1;33m=\u001b[0m \u001b[0mcompute_class_weight\u001b[0m\u001b[1;33m(\u001b[0m\u001b[0mclass_weight\u001b[0m\u001b[1;33m,\u001b[0m \u001b[0mclasses_\u001b[0m\u001b[1;33m,\u001b[0m \u001b[0my\u001b[0m\u001b[1;33m)\u001b[0m\u001b[1;33m\u001b[0m\u001b[1;33m\u001b[0m\u001b[0m\n",
      "\u001b[1;31mValueError\u001b[0m: This solver needs samples of at least 2 classes in the data, but the data contains only one class: 0"
     ]
    }
   ],
   "source": [
    "#for the next classifier we need to remove from y-train, y-test categories which equal 0 for all train samples\n",
    "cc_classifier = ClassifierChain(LogisticRegression(solver='warn'))\n",
    "cc_classifier.fit(X_train, y_train)\n",
    "cc_predictions_proba = cc_classifier.predict_proba(X_test)\n",
    "#for plotting metrics as a function of threashold\n",
    "th = []\n",
    "f = []\n",
    "ham = []\n",
    "ac = []\n",
    "for t in range (5,60): # threshold value\n",
    "    y_pred_new = (cc_predictions_proba >= t/100).astype(int)\n",
    "#     print(\"t =\" ,t/100)\n",
    "#     print(\"Accuracy = \",accuracy_score(y_test,y_pred_new))\n",
    "#     print(\"F1 = \",f1_score(y_test,y_pred_new, average=\"micro\"))\n",
    "#     print(\"Hamming loss = \",hamming_loss(y_test,y_pred_new))\n",
    "    th.append(t)\n",
    "    ac.append(accuracy_score(y_test,y_pred_new))\n",
    "    f.append(f1_score(y_test,y_pred_new, average=\"micro\"))\n",
    "    ham.append(hamming_loss(y_test,y_pred_new))\n",
    "plt.rcParams[\"figure.figsize\"] = (12,6)\n",
    "with plt.style.context('ggplot'):\n",
    "    plt.plot(th, f)\n",
    "    plt.plot(th, ham)\n",
    "    plt.plot(th, ac)\n",
    "    plt.legend(['F1', 'Hamming loss', 'Accuracy'], loc='center left', fontsize = 14)\n",
    "    plt.ylabel(\"metrics\", fontsize = 14)\n",
    "    plt.xlabel(\"threshold\", fontsize = 14)\n",
    "    plt.title(\"Classfier Chain Model\", fontsize = 18)\n",
    "plt.show()"
   ]
  },
  {
   "cell_type": "code",
   "execution_count": 25,
   "metadata": {},
   "outputs": [
    {
     "ename": "ValueError",
     "evalue": "This solver needs samples of at least 2 classes in the data, but the data contains only one class: 0",
     "output_type": "error",
     "traceback": [
      "\u001b[1;31m---------------------------------------------------------------------------\u001b[0m",
      "\u001b[1;31mValueError\u001b[0m                                Traceback (most recent call last)",
      "\u001b[1;32m<ipython-input-25-0da1fd127744>\u001b[0m in \u001b[0;36m<module>\u001b[1;34m\u001b[0m\n\u001b[0;32m      4\u001b[0m \u001b[0mclassifier\u001b[0m \u001b[1;33m=\u001b[0m \u001b[0mClassifierChain\u001b[0m\u001b[1;33m(\u001b[0m\u001b[0mLogisticRegression\u001b[0m\u001b[1;33m(\u001b[0m\u001b[1;33m)\u001b[0m\u001b[1;33m)\u001b[0m\u001b[1;33m\u001b[0m\u001b[1;33m\u001b[0m\u001b[0m\n\u001b[0;32m      5\u001b[0m \u001b[1;31m# Training logistic regression model on train data\u001b[0m\u001b[1;33m\u001b[0m\u001b[1;33m\u001b[0m\u001b[1;33m\u001b[0m\u001b[0m\n\u001b[1;32m----> 6\u001b[1;33m \u001b[0mclassifier\u001b[0m\u001b[1;33m.\u001b[0m\u001b[0mfit\u001b[0m\u001b[1;33m(\u001b[0m\u001b[0mX_train\u001b[0m\u001b[1;33m,\u001b[0m \u001b[0my_train\u001b[0m\u001b[1;33m)\u001b[0m\u001b[1;33m\u001b[0m\u001b[1;33m\u001b[0m\u001b[0m\n\u001b[0m\u001b[0;32m      7\u001b[0m \u001b[1;31m# predict\u001b[0m\u001b[1;33m\u001b[0m\u001b[1;33m\u001b[0m\u001b[1;33m\u001b[0m\u001b[0m\n\u001b[0;32m      8\u001b[0m \u001b[0mpredictions\u001b[0m \u001b[1;33m=\u001b[0m \u001b[0mclassifier\u001b[0m\u001b[1;33m.\u001b[0m\u001b[0mpredict\u001b[0m\u001b[1;33m(\u001b[0m\u001b[0mX_test\u001b[0m\u001b[1;33m)\u001b[0m\u001b[1;33m\u001b[0m\u001b[1;33m\u001b[0m\u001b[0m\n",
      "\u001b[1;32m~\\AppData\\Local\\Continuum\\anaconda3\\lib\\site-packages\\skmultilearn\\problem_transform\\cc.py\u001b[0m in \u001b[0;36mfit\u001b[1;34m(self, X, y, order)\u001b[0m\n\u001b[0;32m    153\u001b[0m \u001b[1;33m\u001b[0m\u001b[0m\n\u001b[0;32m    154\u001b[0m             self.classifiers_[label] = self.classifier.fit(self._ensure_input_format(\n\u001b[1;32m--> 155\u001b[1;33m                 X_extended), self._ensure_output_format(y_subset))\n\u001b[0m\u001b[0;32m    156\u001b[0m             \u001b[0mX_extended\u001b[0m \u001b[1;33m=\u001b[0m \u001b[0mhstack\u001b[0m\u001b[1;33m(\u001b[0m\u001b[1;33m[\u001b[0m\u001b[0mX_extended\u001b[0m\u001b[1;33m,\u001b[0m \u001b[0my_subset\u001b[0m\u001b[1;33m]\u001b[0m\u001b[1;33m)\u001b[0m\u001b[1;33m\u001b[0m\u001b[1;33m\u001b[0m\u001b[0m\n\u001b[0;32m    157\u001b[0m \u001b[1;33m\u001b[0m\u001b[0m\n",
      "\u001b[1;32m~\\AppData\\Local\\Continuum\\anaconda3\\lib\\site-packages\\sklearn\\linear_model\\logistic.py\u001b[0m in \u001b[0;36mfit\u001b[1;34m(self, X, y, sample_weight)\u001b[0m\n\u001b[0;32m   1547\u001b[0m                 \u001b[0mself\u001b[0m\u001b[1;33m.\u001b[0m\u001b[0mclass_weight\u001b[0m\u001b[1;33m,\u001b[0m \u001b[0mself\u001b[0m\u001b[1;33m.\u001b[0m\u001b[0mpenalty\u001b[0m\u001b[1;33m,\u001b[0m \u001b[0mself\u001b[0m\u001b[1;33m.\u001b[0m\u001b[0mdual\u001b[0m\u001b[1;33m,\u001b[0m \u001b[0mself\u001b[0m\u001b[1;33m.\u001b[0m\u001b[0mverbose\u001b[0m\u001b[1;33m,\u001b[0m\u001b[1;33m\u001b[0m\u001b[1;33m\u001b[0m\u001b[0m\n\u001b[0;32m   1548\u001b[0m                 \u001b[0mself\u001b[0m\u001b[1;33m.\u001b[0m\u001b[0mmax_iter\u001b[0m\u001b[1;33m,\u001b[0m \u001b[0mself\u001b[0m\u001b[1;33m.\u001b[0m\u001b[0mtol\u001b[0m\u001b[1;33m,\u001b[0m \u001b[0mself\u001b[0m\u001b[1;33m.\u001b[0m\u001b[0mrandom_state\u001b[0m\u001b[1;33m,\u001b[0m\u001b[1;33m\u001b[0m\u001b[1;33m\u001b[0m\u001b[0m\n\u001b[1;32m-> 1549\u001b[1;33m                 sample_weight=sample_weight)\n\u001b[0m\u001b[0;32m   1550\u001b[0m             \u001b[0mself\u001b[0m\u001b[1;33m.\u001b[0m\u001b[0mn_iter_\u001b[0m \u001b[1;33m=\u001b[0m \u001b[0mnp\u001b[0m\u001b[1;33m.\u001b[0m\u001b[0marray\u001b[0m\u001b[1;33m(\u001b[0m\u001b[1;33m[\u001b[0m\u001b[0mn_iter_\u001b[0m\u001b[1;33m]\u001b[0m\u001b[1;33m)\u001b[0m\u001b[1;33m\u001b[0m\u001b[1;33m\u001b[0m\u001b[0m\n\u001b[0;32m   1551\u001b[0m             \u001b[1;32mreturn\u001b[0m \u001b[0mself\u001b[0m\u001b[1;33m\u001b[0m\u001b[1;33m\u001b[0m\u001b[0m\n",
      "\u001b[1;32m~\\AppData\\Local\\Continuum\\anaconda3\\lib\\site-packages\\sklearn\\svm\\base.py\u001b[0m in \u001b[0;36m_fit_liblinear\u001b[1;34m(X, y, C, fit_intercept, intercept_scaling, class_weight, penalty, dual, verbose, max_iter, tol, random_state, multi_class, loss, epsilon, sample_weight)\u001b[0m\n\u001b[0;32m    877\u001b[0m             raise ValueError(\"This solver needs samples of at least 2 classes\"\n\u001b[0;32m    878\u001b[0m                              \u001b[1;34m\" in the data, but the data contains only one\"\u001b[0m\u001b[1;33m\u001b[0m\u001b[1;33m\u001b[0m\u001b[0m\n\u001b[1;32m--> 879\u001b[1;33m                              \" class: %r\" % classes_[0])\n\u001b[0m\u001b[0;32m    880\u001b[0m \u001b[1;33m\u001b[0m\u001b[0m\n\u001b[0;32m    881\u001b[0m         \u001b[0mclass_weight_\u001b[0m \u001b[1;33m=\u001b[0m \u001b[0mcompute_class_weight\u001b[0m\u001b[1;33m(\u001b[0m\u001b[0mclass_weight\u001b[0m\u001b[1;33m,\u001b[0m \u001b[0mclasses_\u001b[0m\u001b[1;33m,\u001b[0m \u001b[0my\u001b[0m\u001b[1;33m)\u001b[0m\u001b[1;33m\u001b[0m\u001b[1;33m\u001b[0m\u001b[0m\n",
      "\u001b[1;31mValueError\u001b[0m: This solver needs samples of at least 2 classes in the data, but the data contains only one class: 0"
     ]
    }
   ],
   "source": [
    "import numpy\n",
    "# using classifier chains\n",
    "# initialize classifier chains multi-label classifier\n",
    "classifier = ClassifierChain(LogisticRegression())\n",
    "# Training logistic regression model on train data\n",
    "classifier.fit(X_train, y_train)\n",
    "# predict\n",
    "predictions = classifier.predict(X_test)\n",
    "\n",
    "# accuracy   None, 'micro', 'macro', 'weighted', 'samples'\n",
    "Accuracy = accuracy_score(y_test,predictions.toarray())\n",
    "\n",
    "Micro_Precision = precision_score(y_test,predictions, average='micro')\n",
    "Micro_Recall = recall_score(y_test,predictions, average='micro')\n",
    "Micro_F1 = f1_score(y_test,predictions, average='micro')\n",
    "Micro_Average_Prec = average_precision_score(y_test.toarray(), predictions.toarray(), average='micro')\n",
    "\n",
    "Macro_Precision = precision_score(y_test,predictions, average='macro')\n",
    "Macro_Recall = recall_score(y_test,predictions, average='macro')\n",
    "Macro_F1 = f1_score(y_test,predictions, average='macro')\n",
    "Macro_Average_Prec = average_precision_score(y_test.toarray(), predictions.toarray(), average='macro')\n",
    "\n",
    "Samples_Average_Prec = average_precision_score(y_test.toarray(), predictions.toarray(), average='samples')\n",
    "Weighted_Average_Prec = average_precision_score(y_test.toarray(), predictions.toarray(), average='weighted')\n",
    "\n",
    "Hamming_loss = hamming_loss(y_test,predictions)\n",
    "Ranking_loss = label_ranking_loss(y_test.toarray(), predictions.toarray())\n",
    "\n",
    "# Compute ROC curve and ROC area for each class\n",
    "fpr = dict()\n",
    "tpr = dict()\n",
    "roc_auc = dict()\n",
    "fpr[\"micro\"], tpr[\"micro\"], _ = roc_curve(y_test.toarray(), predictions)\n",
    "Micro_Roc_auc = auc(fpr[\"micro\"], tpr[\"micro\"])\n",
    " \n",
    "Coverage_error = coverage_error(y_test.toarray(), predictions)\n",
    "label_ranking_avg_prec_score = label_ranking_average_precision_score(y_test.toarray(), predictions)\n",
    "Jaccard_score = jaccard_score(y_test, predictions, average='samples')\n",
    "Jaccard_score_macro = jaccard_score(y_test, predictions, average='macro')\n",
    "\n",
    "\n",
    "print(\"ClassifierChain Accuracy = \",Accuracy)\n",
    "print(\"ClassifierChain Micro_Precision = \",Micro_Precision)\n",
    "print(\"ClassifierChain Micro_Recall = \",Micro_Recall)\n",
    "print(\"ClassifierChain Micro_F1 = \",Micro_F1)\n",
    "print(\"ClassifierChain Micro_Average_Prec = \",Micro_Average_Prec)\n",
    "print(\"ClassifierChain Macro_Precision = \",Macro_Precision)\n",
    "print(\"ClassifierChain Macro_Recall = \",Macro_Recall)\n",
    "print(\"ClassifierChain Macro_F1 = \",Macro_F1)\n",
    "print(\"ClassifierChain Macro_Average_Prec = \",Macro_Average_Prec)\n",
    "print(\"ClassifierChain Samples_Average_Prec = \",Samples_Average_Prec)\n",
    "print(\"ClassifierChain Weighted_Average_Prec = \",Weighted_Average_Prec)\n",
    "print(\"ClassifierChain Hamming_loss = \",Hamming_loss)\n",
    "print(\"ClassifierChain Ranking_loss = \",Ranking_loss)\n",
    "print(\"ClassifierChain Micro_Roc_auc = \",Micro_Roc_auc)\n",
    "print(\"ClassifierChain Coverage_error = \",Coverage_error)\n",
    "print(\"ClassifierChain label_ranking_average_precision_score = \",label_ranking_avg_prec_score)\n",
    "print(\"ClassifierChain Jaccard_score = \",Jaccard_score)\n",
    "print(\"ClassifierChain Jaccard_score_macro = \",Jaccard_score_macro)\n",
    "Eval7 = ['ClassifierChain',Accuracy,Micro_Precision,Micro_Recall,Micro_F1,Micro_Average_Prec,\n",
    "         Macro_Precision,Macro_Recall,Macro_F1,Macro_Average_Prec,Samples_Average_Prec,Weighted_Average_Prec,Hamming_loss,\n",
    "         Ranking_loss,Micro_Roc_auc,Coverage_error,label_ranking_avg_prec_score,Jaccard_score,Jaccard_score_macro]\n",
    "Evals.append(Eval7)"
   ]
  },
  {
   "cell_type": "markdown",
   "metadata": {},
   "source": [
    "# 3.5. Multiple Binary Classifications - (One Vs Rest Classifier)\n"
   ]
  },
  {
   "cell_type": "code",
   "execution_count": 32,
   "metadata": {},
   "outputs": [
    {
     "name": "stdout",
     "output_type": "stream",
     "text": [
      "OneVsRestClassifier_LogisticRegression Accuracy =  0.6253869969040248\n",
      "OneVsRestClassifier_LogisticRegression Micro_Precision =  0.8836477987421384\n",
      "OneVsRestClassifier_LogisticRegression Micro_Recall =  0.6938271604938272\n",
      "OneVsRestClassifier_LogisticRegression Micro_F1 =  0.7773167358229599\n",
      "OneVsRestClassifier_LogisticRegression Micro_Average_Prec =  0.6216299748288248\n",
      "OneVsRestClassifier_LogisticRegression Macro_Precision =  0.28566924319944176\n",
      "OneVsRestClassifier_LogisticRegression Macro_Recall =  0.25565281364743986\n",
      "OneVsRestClassifier_LogisticRegression Macro_F1 =  0.26640995148033975\n",
      "OneVsRestClassifier_LogisticRegression Macro_Average_Prec =  nan\n",
      "OneVsRestClassifier_LogisticRegression Samples_Average_Prec =  0.7077055383556932\n",
      "OneVsRestClassifier_LogisticRegression Weighted_Average_Prec =  nan\n",
      "OneVsRestClassifier_LogisticRegression Hamming_loss =  0.01107671138630891\n",
      "OneVsRestClassifier_LogisticRegression Ranking_loss =  0.28509099199933674\n",
      "OneVsRestClassifier_LogisticRegression Micro_Roc_auc =  0.8456043091924197\n",
      "OneVsRestClassifier_LogisticRegression Coverage_error =  16.238390092879257\n",
      "OneVsRestClassifier_LogisticRegression label_ranking_average_precision_score =  0.7077055383556925\n",
      "OneVsRestClassifier_LogisticRegression Jaccard_score =  0.6996904024767802\n",
      "OneVsRestClassifier_LogisticRegression Jaccard_score_macro =  0.23932151633215462\n"
     ]
    }
   ],
   "source": [
    "# Using pipeline for applying logistic regression and one vs rest classifier\n",
    "LogReg_pipeline = Pipeline([('clf', OneVsRestClassifier(LogisticRegression(solver='sag'), n_jobs=-1)),])\n",
    "  \n",
    "# Training logistic regression model on train data\n",
    "LogReg_pipeline.fit(X_train,y_train )\n",
    "    \n",
    "# calculating test accuracy\n",
    "Logprediction = LogReg_pipeline.predict(X_test)\n",
    "\n",
    "# accuracy   None, 'micro', 'macro', 'weighted', 'samples'\n",
    "Accuracy = accuracy_score(y_test,Logprediction)\n",
    "\n",
    "Micro_Precision = precision_score(y_test,Logprediction, average='micro')\n",
    "Micro_Recall = recall_score(y_test,Logprediction, average='micro')\n",
    "Micro_F1 = f1_score(y_test,Logprediction, average='micro')\n",
    "Micro_Average_Prec = average_precision_score(y_test, Logprediction, average='micro')\n",
    "\n",
    "Macro_Precision = precision_score(y_test,Logprediction, average='macro')\n",
    "Macro_Recall = recall_score(y_test,Logprediction, average='macro')\n",
    "Macro_F1 = f1_score(y_test,Logprediction, average='macro')\n",
    "Macro_Average_Prec = average_precision_score(y_test, Logprediction, average='macro')\n",
    "\n",
    "Samples_Average_Prec = average_precision_score(y_test, Logprediction, average='samples')\n",
    "Weighted_Average_Prec = average_precision_score(y_test, Logprediction, average='weighted')\n",
    "\n",
    "Hamming_loss = hamming_loss(y_test,Logprediction)\n",
    "Ranking_loss = label_ranking_loss(y_test, Logprediction)\n",
    "\n",
    "# Compute ROC curve and ROC area for each class\n",
    "fpr = dict()\n",
    "tpr = dict()\n",
    "roc_auc = dict()\n",
    "fpr[\"micro\"], tpr[\"micro\"], _ = roc_curve(y_test.ravel(), Logprediction.ravel())\n",
    "Micro_Roc_auc = auc(fpr[\"micro\"], tpr[\"micro\"])\n",
    " \n",
    "Coverage_error = coverage_error(y_test, Logprediction)\n",
    "label_ranking_avg_prec_score = label_ranking_average_precision_score(y_test, Logprediction)\n",
    "Jaccard_score = jaccard_score(y_test, Logprediction, average='samples')\n",
    "Jaccard_score_macro = jaccard_score(y_test, Logprediction, average='macro')\n",
    "\n",
    "\n",
    "print(\"OneVsRestClassifier_LogisticRegression Accuracy = \",Accuracy)\n",
    "print(\"OneVsRestClassifier_LogisticRegression Micro_Precision = \",Micro_Precision)\n",
    "print(\"OneVsRestClassifier_LogisticRegression Micro_Recall = \",Micro_Recall)\n",
    "print(\"OneVsRestClassifier_LogisticRegression Micro_F1 = \",Micro_F1)\n",
    "print(\"OneVsRestClassifier_LogisticRegression Micro_Average_Prec = \",Micro_Average_Prec)\n",
    "print(\"OneVsRestClassifier_LogisticRegression Macro_Precision = \",Macro_Precision)\n",
    "print(\"OneVsRestClassifier_LogisticRegression Macro_Recall = \",Macro_Recall)\n",
    "print(\"OneVsRestClassifier_LogisticRegression Macro_F1 = \",Macro_F1)\n",
    "print(\"OneVsRestClassifier_LogisticRegression Macro_Average_Prec = \",Macro_Average_Prec)\n",
    "print(\"OneVsRestClassifier_LogisticRegression Samples_Average_Prec = \",Samples_Average_Prec)\n",
    "print(\"OneVsRestClassifier_LogisticRegression Weighted_Average_Prec = \",Weighted_Average_Prec)\n",
    "print(\"OneVsRestClassifier_LogisticRegression Hamming_loss = \",Hamming_loss)\n",
    "print(\"OneVsRestClassifier_LogisticRegression Ranking_loss = \",Ranking_loss)\n",
    "print(\"OneVsRestClassifier_LogisticRegression Micro_Roc_auc = \",Micro_Roc_auc)\n",
    "print(\"OneVsRestClassifier_LogisticRegression Coverage_error = \",Coverage_error)\n",
    "print(\"OneVsRestClassifier_LogisticRegression label_ranking_average_precision_score = \",label_ranking_avg_prec_score)\n",
    "print(\"OneVsRestClassifier_LogisticRegression Jaccard_score = \",Jaccard_score)\n",
    "print(\"OneVsRestClassifier_LogisticRegression Jaccard_score_macro = \",Jaccard_score_macro)\n",
    "Eval7 = ['OneVsRestClassifier_LogisticRegression',Accuracy,Micro_Precision,Micro_Recall,Micro_F1,Micro_Average_Prec,\n",
    "         Macro_Precision,Macro_Recall,Macro_F1,Macro_Average_Prec,Samples_Average_Prec,Weighted_Average_Prec,Hamming_loss,\n",
    "         Ranking_loss,Micro_Roc_auc,Coverage_error,label_ranking_avg_prec_score,Jaccard_score,Jaccard_score_macro]\n",
    "Evals.append(Eval7)"
   ]
  },
  {
   "cell_type": "code",
   "execution_count": 33,
   "metadata": {},
   "outputs": [
    {
     "name": "stdout",
     "output_type": "stream",
     "text": [
      "              precision    recall  f1-score   support\n",
      "\n",
      "           0       0.88      0.91      0.90        33\n",
      "           1       1.00      1.00      1.00         2\n",
      "           2       0.00      0.00      0.00         1\n",
      "           3       0.00      0.00      0.00         1\n",
      "           4       0.91      0.90      0.91        94\n",
      "           5       0.00      0.00      0.00         1\n",
      "           6       0.00      0.00      0.00         1\n",
      "           7       0.00      0.00      0.00         2\n",
      "           8       0.00      0.00      0.00         1\n",
      "           9       0.78      0.84      0.81        38\n",
      "          10       0.00      0.00      0.00         7\n",
      "          11       0.00      0.00      0.00         0\n",
      "          12       0.00      0.00      0.00         3\n",
      "          13       0.00      0.00      0.00         1\n",
      "          14       0.00      0.00      0.00         1\n",
      "          15       0.00      0.00      0.00         1\n",
      "          16       0.00      0.00      0.00         0\n",
      "          17       0.00      0.00      0.00         1\n",
      "          18       0.00      0.00      0.00         1\n",
      "          19       0.00      0.00      0.00         3\n",
      "          20       0.00      0.00      0.00         1\n",
      "          21       1.00      1.00      1.00         5\n",
      "          22       0.00      0.00      0.00         2\n",
      "          23       1.00      0.82      0.90        11\n",
      "          24       1.00      1.00      1.00        18\n",
      "          25       0.00      0.00      0.00         1\n",
      "          26       0.00      0.00      0.00         0\n",
      "          27       0.00      0.00      0.00         1\n",
      "          28       0.00      0.00      0.00         2\n",
      "          29       0.00      0.00      0.00         0\n",
      "          30       0.00      0.00      0.00         5\n",
      "          31       0.86      0.52      0.65        23\n",
      "          32       0.80      0.84      0.82        43\n",
      "          33       0.00      0.00      0.00         0\n",
      "          34       0.00      0.00      0.00         6\n",
      "          35       0.00      0.00      0.00         7\n",
      "          36       0.85      0.92      0.88        12\n",
      "          37       0.00      0.00      0.00         8\n",
      "          38       1.00      0.54      0.70        13\n",
      "          39       0.00      0.00      0.00         7\n",
      "          40       0.00      0.00      0.00         0\n",
      "          41       0.90      0.75      0.82        24\n",
      "          42       0.00      0.00      0.00         0\n",
      "          43       1.00      1.00      1.00         9\n",
      "          44       0.88      0.47      0.61        15\n",
      "\n",
      "   micro avg       0.88      0.69      0.78       405\n",
      "   macro avg       0.29      0.26      0.27       405\n",
      "weighted avg       0.74      0.69      0.71       405\n",
      " samples avg       0.76      0.72      0.72       405\n",
      "\n"
     ]
    }
   ],
   "source": [
    "# Print the confusion matrix\n",
    "from sklearn import metrics\n",
    "from sklearn.metrics import multilabel_confusion_matrix\n",
    "#print(multilabel_confusion_matrix(y_test, Logprediction))\n",
    "\n",
    "# Print the precision and recall, among other metrics\n",
    "print(metrics.classification_report(y_test, Logprediction))"
   ]
  },
  {
   "cell_type": "code",
   "execution_count": 36,
   "metadata": {},
   "outputs": [],
   "source": [
    "def print_roc(y_true, y_scores):\n",
    "        '''\n",
    "        Prints the ROC for this model.\n",
    "        '''\n",
    "        fpr, tpr, thresholds = roc_curve(y_test.ravel(), Logprediction.ravel())\n",
    "        plt.figure()\n",
    "        plt.plot(fpr, tpr, color='darkorange', label='ROC curve (area = %0.2f)')\n",
    "        plt.plot([0, 1], [0, 1], color='navy', linestyle='--')\n",
    "        plt.xlim([0.0, 1.0])\n",
    "        plt.ylim([0.0, 1.05])\n",
    "        plt.xlabel('False Positive Rate')\n",
    "        plt.ylabel('True Positive Rate')\n",
    "        plt.title('Receiver operating characteristic')\n",
    "        plt.legend(loc=\"lower right\")\n",
    "        plt.show() "
   ]
  },
  {
   "cell_type": "code",
   "execution_count": 37,
   "metadata": {},
   "outputs": [
    {
     "data": {
      "image/png": "[encoded data removed]",
      "text/plain": [
       "<Figure size 432x288 with 1 Axes>"
      ]
     },
     "metadata": {
      "needs_background": "light"
     },
     "output_type": "display_data"
    }
   ],
   "source": [
    "print_roc(y_test, Logprediction)"
   ]
  },
  {
   "cell_type": "code",
   "execution_count": null,
   "metadata": {},
   "outputs": [],
   "source": [
    "df = pd.DataFrame(Evals, columns=['Classifier','Accuracy','Precision','Recall','F1_score','Hamming_loss'])\n",
    "df"
   ]
  },
  {
   "cell_type": "code",
   "execution_count": null,
   "metadata": {},
   "outputs": [],
   "source": []
  },
  {
   "cell_type": "code",
   "execution_count": null,
   "metadata": {},
   "outputs": [],
   "source": []
  },
  {
   "cell_type": "code",
   "execution_count": null,
   "metadata": {},
   "outputs": [],
   "source": []
  },
  {
   "cell_type": "code",
   "execution_count": null,
   "metadata": {},
   "outputs": [],
   "source": [
    "https://scikit-learn.org/stable/auto_examples/model_selection/plot_precision_recall.html#sphx-glr-auto-examples-model-selection-plot-precision-recall-py"
   ]
  },
  {
   "cell_type": "code",
   "execution_count": null,
   "metadata": {},
   "outputs": [],
   "source": [
    "https://towardsdatascience.com/multi-class-metrics-made-simple-part-i-precision-and-recall-9250280bddc2"
   ]
  },
  {
   "cell_type": "code",
   "execution_count": 38,
   "metadata": {},
   "outputs": [
    {
     "ename": "NameError",
     "evalue": "name 'lw' is not defined",
     "output_type": "error",
     "traceback": [
      "\u001b[1;31m---------------------------------------------------------------------------\u001b[0m",
      "\u001b[1;31mNameError\u001b[0m                                 Traceback (most recent call last)",
      "\u001b[1;32m<ipython-input-38-9ff40232e7a5>\u001b[0m in \u001b[0;36m<module>\u001b[1;34m\u001b[0m\n\u001b[0;32m     28\u001b[0m \u001b[0mcolors\u001b[0m \u001b[1;33m=\u001b[0m \u001b[0mcycle\u001b[0m\u001b[1;33m(\u001b[0m\u001b[1;33m[\u001b[0m\u001b[1;34m'blue'\u001b[0m\u001b[1;33m,\u001b[0m \u001b[1;34m'red'\u001b[0m\u001b[1;33m,\u001b[0m \u001b[1;34m'green'\u001b[0m\u001b[1;33m]\u001b[0m\u001b[1;33m)\u001b[0m\u001b[1;33m\u001b[0m\u001b[1;33m\u001b[0m\u001b[0m\n\u001b[0;32m     29\u001b[0m \u001b[1;32mfor\u001b[0m \u001b[0mi\u001b[0m\u001b[1;33m,\u001b[0m \u001b[0mcolor\u001b[0m \u001b[1;32min\u001b[0m \u001b[0mzip\u001b[0m\u001b[1;33m(\u001b[0m\u001b[0mrange\u001b[0m\u001b[1;33m(\u001b[0m\u001b[0mn_classes\u001b[0m\u001b[1;33m)\u001b[0m\u001b[1;33m,\u001b[0m \u001b[0mcolors\u001b[0m\u001b[1;33m)\u001b[0m\u001b[1;33m:\u001b[0m\u001b[1;33m\u001b[0m\u001b[1;33m\u001b[0m\u001b[0m\n\u001b[1;32m---> 30\u001b[1;33m     plt.plot(fpr[i], tpr[i], color=color, lw=lw,\n\u001b[0m\u001b[0;32m     31\u001b[0m              \u001b[0mlabel\u001b[0m\u001b[1;33m=\u001b[0m\u001b[1;34m'ROC curve of class {0} (area = {1:0.2f})'\u001b[0m\u001b[1;33m\u001b[0m\u001b[1;33m\u001b[0m\u001b[0m\n\u001b[0;32m     32\u001b[0m              ''.format(i, roc_auc[i]))\n",
      "\u001b[1;31mNameError\u001b[0m: name 'lw' is not defined"
     ]
    }
   ],
   "source": [
    "import matplotlib.pyplot as plt\n",
    "from sklearn import svm, datasets\n",
    "from sklearn.model_selection import train_test_split\n",
    "from sklearn.preprocessing import label_binarize\n",
    "from sklearn.metrics import roc_curve, auc\n",
    "from sklearn.multiclass import OneVsRestClassifier\n",
    "\n",
    "iris = datasets.load_iris()\n",
    "X = iris.data\n",
    "y = iris.target\n",
    "\n",
    "# Binarize the output\n",
    "y = label_binarize(y, classes=[0, 1, 2])\n",
    "n_classes = y.shape[1]\n",
    "\n",
    "X_train, X_test, y_train, y_test = train_test_split(X, y, test_size=.5, random_state=0)\n",
    "\n",
    "classifier = OneVsRestClassifier(svm.SVC(kernel='linear', probability=True,\n",
    "                                 random_state=0))\n",
    "y_score = classifier.fit(X_train, y_train).decision_function(X_test)\n",
    "\n",
    "fpr = dict()\n",
    "tpr = dict()\n",
    "roc_auc = dict()\n",
    "for i in range(n_classes):\n",
    "    fpr[i], tpr[i], _ = roc_curve(y_test[:, i], y_score[:, i])\n",
    "    roc_auc[i] = auc(fpr[i], tpr[i])\n",
    "colors = cycle(['blue', 'red', 'green'])\n",
    "for i, color in zip(range(n_classes), colors):\n",
    "    plt.plot(fpr[i], tpr[i], color=color, lw=lw,\n",
    "             label='ROC curve of class {0} (area = {1:0.2f})'\n",
    "             ''.format(i, roc_auc[i]))\n",
    "plt.plot([0, 1], [0, 1], 'k--', lw=lw)\n",
    "plt.xlim([-0.05, 1.0])\n",
    "plt.ylim([0.0, 1.05])\n",
    "plt.xlabel('False Positive Rate')\n",
    "plt.ylabel('True Positive Rate')\n",
    "plt.title('Receiver operating characteristic for multi-class data')\n",
    "plt.legend(loc=\"lower right\")\n",
    "plt.show()"
   ]
  },
  {
   "cell_type": "code",
   "execution_count": null,
   "metadata": {},
   "outputs": [],
   "source": []
  }
 ],
 "metadata": {
  "kernelspec": {
   "display_name": "Python 3",
   "language": "python",
   "name": "python3"
  },
  "language_info": {
   "codemirror_mode": {
    "name": "ipython",
    "version": 3
   },
   "file_extension": ".py",
   "mimetype": "text/x-python",
   "name": "python",
   "nbconvert_exporter": "python",
   "pygments_lexer": "ipython3",
   "version": "3.7.3"
  }
 },
 "nbformat": 4,
 "nbformat_minor": 2
}
