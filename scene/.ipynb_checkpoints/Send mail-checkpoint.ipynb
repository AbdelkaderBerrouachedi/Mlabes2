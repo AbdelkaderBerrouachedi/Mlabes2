{
 "cells": [
  {
   "cell_type": "code",
   "execution_count": null,
   "metadata": {},
   "outputs": [],
   "source": [
    "# Nom du serveur IMAP Outlook.office365.com\n",
    "# Port IMAP : 993\n",
    "# Méthode de chiffrement IMAPTLS\n",
    "# Nom du serveur POP Outlook.office365.com\n",
    "# Port POP : 995\n",
    "# Méthode de chiffrement POP TLS\n",
    "# Nom du serveur SMTP SMTP.office365.com\n",
    "# Port SMTP : 587"
   ]
  },
  {
   "cell_type": "code",
   "execution_count": 4,
   "metadata": {},
   "outputs": [
    {
     "name": "stdout",
     "output_type": "stream",
     "text": [
      "sending mail to abdelkader.berrouachedi@ext.mpsa.com on Sent using Python\n"
     ]
    }
   ],
   "source": [
    "def send_mail(recipient, subject, message):\n",
    "\n",
    "    import smtplib\n",
    "    #from email.MIMEMultipart import MIMEMultipart\n",
    "    from email.mime.multipart import MIMEMultipart\n",
    "\n",
    "    #from email.MIMEText import MIMEText\n",
    "    from email.mime.text import MIMEText\n",
    "    username = \"abdelkader.berrouachedi@gfi.fr\"\n",
    "    password = \"20202020Aek\"\n",
    "\n",
    "    msg = MIMEMultipart()\n",
    "    msg['From'] = username\n",
    "    msg['To'] = recipient\n",
    "    msg['Subject'] = subject\n",
    "    msg.attach(MIMEText(message))\n",
    "\n",
    "    try:\n",
    "        print('sending mail to ' + recipient + ' on ' + subject)\n",
    "\n",
    "        mailServer = smtplib.SMTP('SMTP.office365.com',587)\n",
    "        mailServer.ehlo()\n",
    "        mailServer.starttls()\n",
    "        mailServer.ehlo()\n",
    "        mailServer.login(username, password)\n",
    "        mailServer.sendmail(username, recipient, msg.as_string())\n",
    "        mailServer.close()\n",
    "\n",
    "    except error as e:\n",
    "        print(str(e))\n",
    "\n",
    "\n",
    "send_mail('abdelkader.berrouachedi@ext.mpsa.com', 'Sent using Python',\n",
    "          'May the force be with you.')"
   ]
  },
  {
   "cell_type": "code",
   "execution_count": null,
   "metadata": {},
   "outputs": [],
   "source": []
  }
 ],
 "metadata": {
  "kernelspec": {
   "display_name": "Python 3",
   "language": "python",
   "name": "python3"
  },
  "language_info": {
   "codemirror_mode": {
    "name": "ipython",
    "version": 3
   },
   "file_extension": ".py",
   "mimetype": "text/x-python",
   "name": "python",
   "nbconvert_exporter": "python",
   "pygments_lexer": "ipython3",
   "version": "3.7.3"
  }
 },
 "nbformat": 4,
 "nbformat_minor": 2
}
