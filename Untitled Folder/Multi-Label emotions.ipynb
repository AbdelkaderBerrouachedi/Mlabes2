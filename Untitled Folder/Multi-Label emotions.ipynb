{
 "cells": [
  {
   "cell_type": "code",
   "execution_count": 1,
   "metadata": {},
   "outputs": [],
   "source": [
    "import warnings\n",
    "warnings.filterwarnings(\"ignore\")"
   ]
  },
  {
   "cell_type": "code",
   "execution_count": 2,
   "metadata": {},
   "outputs": [],
   "source": [
    "# https://towardsdatascience.com/multi-label-text-classification-5c505fdedca8#--responses\n",
    "import pandas as pd\n",
    "import numpy as np\n",
    "import matplotlib.pyplot as plt\n",
    "import json\n",
    "import nltk\n",
    "from nltk.corpus import stopwords\n",
    "from nltk.stem.snowball import SnowballStemmer\n",
    "from bs4 import BeautifulSoup\n",
    "import re\n",
    "import csv\n",
    "from sklearn.metrics import *\n",
    "from tqdm import tqdm\n",
    "from sklearn.model_selection import train_test_split\n",
    "from sklearn.feature_extraction.text import TfidfVectorizer\n",
    "# from sklearn.metrics import f1_score\n",
    "# from sklearn.metrics import accuracy_score\n",
    "# from sklearn.metrics import hamming_loss\n",
    "from skmultilearn.problem_transform import BinaryRelevance\n",
    "from sklearn.naive_bayes import GaussianNB\n",
    "from skmultilearn.problem_transform import ClassifierChain\n",
    "from sklearn.linear_model import LogisticRegression\n",
    "from skmultilearn.problem_transform import LabelPowerset\n",
    "from skmultilearn.adapt import MLkNN\n",
    "from scipy.sparse import csr_matrix, lil_matrix\n",
    "from sklearn.preprocessing import MultiLabelBinarizer\n",
    "import pickle\n",
    "from sklearn.svm import SVC\n",
    "import numpy\n",
    "from skmultilearn.dataset import load_dataset"
   ]
  },
  {
   "cell_type": "code",
   "execution_count": 3,
   "metadata": {},
   "outputs": [],
   "source": [
    "# list of metrics\n",
    "Evals = []"
   ]
  },
  {
   "cell_type": "markdown",
   "metadata": {},
   "source": [
    "# 3. Multi-Label Classification\n"
   ]
  },
  {
   "cell_type": "code",
   "execution_count": 4,
   "metadata": {},
   "outputs": [
    {
     "name": "stdout",
     "output_type": "stream",
     "text": [
      "emotions:train - exists, not redownloading\n",
      "emotions:test - exists, not redownloading\n"
     ]
    }
   ],
   "source": [
    "# LOAD DATASET emotions\n",
    "X_train, y_train, feature_names, label_names = load_dataset('emotions', 'train')\n",
    "X_test, y_test, _, _ = load_dataset('emotions', 'test')"
   ]
  },
  {
   "cell_type": "markdown",
   "metadata": {},
   "source": [
    "## 3.1. Multiple Binary Classifications - (Binary Relevance)\n"
   ]
  },
  {
   "cell_type": "markdown",
   "metadata": {},
   "source": [
    "### 3.1.1  BinaryRelevance MLP"
   ]
  },
  {
   "cell_type": "code",
   "execution_count": 5,
   "metadata": {},
   "outputs": [
    {
     "name": "stderr",
     "output_type": "stream",
     "text": [
      "Using TensorFlow backend.\n"
     ]
    }
   ],
   "source": [
    "from keras.models import Sequential\n",
    "from keras.layers import Dense\n",
    "\n",
    "def create_model_single_class(input_dim, output_dim):\n",
    "    # create model\n",
    "    model = Sequential()\n",
    "    model.add(Dense(12, input_dim=input_dim, activation='relu'))\n",
    "    model.add(Dense(8, activation='relu'))\n",
    "    model.add(Dense(output_dim, activation='sigmoid'))\n",
    "    # Compile model\n",
    "    model.compile(loss='binary_crossentropy', optimizer='adam', metrics=['accuracy'])\n",
    "    return model"
   ]
  },
  {
   "cell_type": "code",
   "execution_count": 6,
   "metadata": {},
   "outputs": [
    {
     "name": "stdout",
     "output_type": "stream",
     "text": [
      "BinaryReKeras Accuracy =  0.09405940594059406\n",
      "BinaryReKeras Precision =  0.3377049180327869\n",
      "BinaryReKeras Recall =  0.2581453634085213\n",
      "BinaryReKeras F1_score =  0.29261363636363635\n",
      "BinaryReKeras Hamming loss =  0.41089108910891087\n"
     ]
    }
   ],
   "source": [
    "from skmultilearn.problem_transform import BinaryRelevance\n",
    "from skmultilearn.ext import Keras\n",
    "KERAS_PARAMS = dict(epochs=10, batch_size=100, verbose=0)\n",
    "clf = BinaryRelevance(classifier=Keras(create_model_single_class, False, KERAS_PARAMS), require_dense=[True,True])\n",
    "clf.fit(X_train, y_train)\n",
    "result = clf.predict(X_test)\n",
    "print(\"BinaryReKeras Accuracy = \",accuracy_score(y_test,result.toarray()))\n",
    "print(\"BinaryReKeras Precision = \",precision_score(y_test,result, average='micro'))\n",
    "print(\"BinaryReKeras Recall = \",recall_score(y_test,result, average='micro'))\n",
    "print(\"BinaryReKeras F1_score = \",f1_score(y_test,result, average='micro'))\n",
    "print(\"BinaryReKeras Hamming loss = \",hamming_loss(y_test,result))\n",
    "\n",
    "Eval1 = ['BinaryRelevance_Keras',accuracy_score(y_test,result.toarray())*100,hamming_loss(y_test,result)*100]\n",
    "Evals.append(Eval1)"
   ]
  },
  {
   "cell_type": "markdown",
   "metadata": {},
   "source": [
    "### 3.1.2  BinaryRelevance SVM"
   ]
  },
  {
   "cell_type": "code",
   "execution_count": 7,
   "metadata": {},
   "outputs": [
    {
     "name": "stdout",
     "output_type": "stream",
     "text": [
      "BinaryReSVC Accuracy =  0.14356435643564355\n",
      "BinaryReSVC Precision =  0.6585365853658537\n",
      "BinaryReSVC Recall =  0.40601503759398494\n",
      "BinaryReSVC F1_score =  0.5023255813953488\n",
      "BinaryReSVC Hamming loss =  0.26485148514851486\n"
     ]
    }
   ],
   "source": [
    "# initialize Binary Relevance multi-label classifier\n",
    "# with an SVM classifier\n",
    "# SVM in scikit only supports the X matrix in sparse representation\n",
    "# Import BinaryRelevance from skmultilearn\n",
    "# Import SVC classifier from sklearn\n",
    "# Setup the classifier\n",
    "classifier = BinaryRelevance(classifier=SVC(), require_dense=[False,True])\n",
    "# Train\n",
    "classifier.fit(X_train, y_train)\n",
    "# Predict\n",
    "y_pred = classifier.predict(X_test)\n",
    "\n",
    "print(\"BinaryReSVC Accuracy = \",accuracy_score(y_test,y_pred.toarray()))\n",
    "print(\"BinaryReSVC Precision = \",precision_score(y_test,y_pred, average='micro'))\n",
    "print(\"BinaryReSVC Recall = \",recall_score(y_test,y_pred, average='micro'))\n",
    "print(\"BinaryReSVC F1_score = \",f1_score(y_test,y_pred, average='micro'))\n",
    "print(\"BinaryReSVC Hamming loss = \",hamming_loss(y_test,y_pred))\n",
    "\n",
    "\n",
    "Eval2 = ['BinaryRelevance_SVM',accuracy_score(y_test,y_pred.toarray())*100,hamming_loss(y_test,y_pred)*100]\n",
    "Evals.append(Eval2)"
   ]
  },
  {
   "cell_type": "markdown",
   "metadata": {},
   "source": [
    "### 3.1.3  BinaryRelevance GaussianNB"
   ]
  },
  {
   "cell_type": "code",
   "execution_count": 8,
   "metadata": {},
   "outputs": [
    {
     "name": "stdout",
     "output_type": "stream",
     "text": [
      "BinaryReGaussianNB Accuracy =  0.16336633663366337\n",
      "BinaryReGaussianNB Precision =  0.5623869801084991\n",
      "BinaryReGaussianNB Recall =  0.7794486215538847\n",
      "BinaryReGaussianNB F1_score =  0.653361344537815\n",
      "BinaryReGaussianNB Hamming loss =  0.2722772277227723\n"
     ]
    }
   ],
   "source": [
    "#Binary Relevance GaussianNB\n",
    "BinaryReGaussianNB = BinaryRelevance(GaussianNB())\n",
    "BinaryReGaussianNB.fit(X_train,y_train)\n",
    "br_predictions = BinaryReGaussianNB.predict(X_test)\n",
    "\n",
    "print(\"BinaryReGaussianNB Accuracy = \",accuracy_score(y_test,br_predictions.toarray()))\n",
    "print(\"BinaryReGaussianNB Precision = \",precision_score(y_test,br_predictions, average='micro'))\n",
    "print(\"BinaryReGaussianNB Recall = \",recall_score(y_test,br_predictions, average='micro'))\n",
    "print(\"BinaryReGaussianNB F1_score = \",f1_score(y_test,br_predictions, average='micro'))\n",
    "print(\"BinaryReGaussianNB Hamming loss = \",hamming_loss(y_test,br_predictions))\n",
    "\n",
    "\n",
    "Eval3 = ['BinaryRelevance_GaussianNB',accuracy_score(y_test,br_predictions.toarray())*100,hamming_loss(y_test,br_predictions)*100]\n",
    "Evals.append(Eval3)"
   ]
  },
  {
   "cell_type": "code",
   "execution_count": null,
   "metadata": {},
   "outputs": [],
   "source": []
  },
  {
   "cell_type": "markdown",
   "metadata": {},
   "source": [
    "## 3.2. Label Powerset\n"
   ]
  },
  {
   "cell_type": "code",
   "execution_count": 9,
   "metadata": {},
   "outputs": [
    {
     "name": "stdout",
     "output_type": "stream",
     "text": [
      "LabelPowerset Accuracy =  0.3316831683168317\n",
      "LabelPowerset Precision =  0.642512077294686\n",
      "LabelPowerset Recall =  0.6666666666666666\n",
      "LabelPowerset F1_score =  0.6543665436654366\n",
      "LabelPowerset Hamming loss =  0.23184818481848185\n"
     ]
    }
   ],
   "source": [
    "## initialize label powerset multi-label classifier\n",
    "lp_classifier = LabelPowerset(LogisticRegression())\n",
    "lp_classifier.fit(X_train, y_train)\n",
    "lp_predictions = lp_classifier.predict(X_test)\n",
    "\n",
    "print(\"LabelPowerset Accuracy = \",accuracy_score(y_test,lp_predictions.toarray()))\n",
    "print(\"LabelPowerset Precision = \",precision_score(y_test,lp_predictions, average='micro'))\n",
    "print(\"LabelPowerset Recall = \",recall_score(y_test,lp_predictions, average='micro'))\n",
    "print(\"LabelPowerset F1_score = \",f1_score(y_test,lp_predictions, average='micro'))\n",
    "print(\"LabelPowerset Hamming loss = \",hamming_loss(y_test,lp_predictions))\n",
    "\n",
    "Eval4 = ['LabelPowerset_LogisticRegression',accuracy_score(y_test,lp_predictions)*100,hamming_loss(y_test,lp_predictions)*100,\n",
    "        f1_score(y_test,lp_predictions, average=\"micro\")*100,]\n",
    "Evals.append(Eval4)"
   ]
  },
  {
   "cell_type": "code",
   "execution_count": null,
   "metadata": {},
   "outputs": [],
   "source": []
  },
  {
   "cell_type": "markdown",
   "metadata": {},
   "source": [
    "# 3.3. Adapted Algorithm\n"
   ]
  },
  {
   "cell_type": "code",
   "execution_count": 10,
   "metadata": {},
   "outputs": [
    {
     "name": "stdout",
     "output_type": "stream",
     "text": [
      "MLkNN Accuracy =  0.13366336633663367\n",
      "MLkNN Precision =  0.5508196721311476\n",
      "MLkNN Recall =  0.42105263157894735\n",
      "MLkNN F1_score =  0.47727272727272724\n",
      "MLkNN Hamming loss =  0.30363036303630364\n"
     ]
    }
   ],
   "source": [
    "#MLkNN\n",
    "# Adapted Algorithm¶\n",
    "# http://scikit.ml/api/api/skmultilearn.adapt.html#skmultilearn.adapt.MLkNN\n",
    "\n",
    "ml_classifier = MLkNN(k=10)\n",
    "# to prevent errors when handling sparse matrices.\n",
    "X_train = lil_matrix(X_train).toarray()\n",
    "y_train = lil_matrix(y_train).toarray()\n",
    "X_test = lil_matrix(X_test).toarray()\n",
    "ml_classifier.fit(X_train, y_train)\n",
    "# predict\n",
    "ml_predictions = ml_classifier.predict(X_test)\n",
    "# accuracy\n",
    "print(\"MLkNN Accuracy = \",accuracy_score(y_test,ml_predictions.toarray()))\n",
    "print(\"MLkNN Precision = \",precision_score(y_test,ml_predictions, average='micro'))\n",
    "print(\"MLkNN Recall = \",recall_score(y_test,ml_predictions, average='micro'))\n",
    "print(\"MLkNN F1_score = \",f1_score(y_test,ml_predictions, average='micro'))\n",
    "print(\"MLkNN Hamming loss = \",hamming_loss(y_test,ml_predictions))\n",
    "\n",
    "Eval5 = ['Adapted_Algorithm_MLkNN',accuracy_score(y_test,ml_predictions)*100,hamming_loss(y_test,ml_predictions)*100,\n",
    "        f1_score(y_test,ml_predictions, average=\"micro\")*100,]\n",
    "Evals.append(Eval5)"
   ]
  },
  {
   "cell_type": "code",
   "execution_count": null,
   "metadata": {},
   "outputs": [],
   "source": []
  },
  {
   "cell_type": "markdown",
   "metadata": {},
   "source": [
    "## 3.4. Classifier Chains\n"
   ]
  },
  {
   "cell_type": "code",
   "execution_count": 11,
   "metadata": {},
   "outputs": [
    {
     "data": {
      "image/png": "[encoded data removed]",
      "text/plain": [
       "<Figure size 864x432 with 1 Axes>"
      ]
     },
     "metadata": {},
     "output_type": "display_data"
    }
   ],
   "source": [
    "#for the next classifier we need to remove from y-train, y-test categories which equal 0 for all train samples\n",
    "cc_classifier = ClassifierChain(LogisticRegression(solver='warn'))\n",
    "cc_classifier.fit(X_train, y_train)\n",
    "cc_predictions_proba = cc_classifier.predict_proba(X_test)\n",
    "#for plotting metrics as a function of threashold\n",
    "th = []\n",
    "f = []\n",
    "ham = []\n",
    "ac = []\n",
    "for t in range (5,60): # threshold value\n",
    "    y_pred_new = (cc_predictions_proba >= t/100).astype(int)\n",
    "#     print(\"t =\" ,t/100)\n",
    "#     print(\"Accuracy = \",accuracy_score(y_test,y_pred_new))\n",
    "#     print(\"F1 = \",f1_score(y_test,y_pred_new, average=\"micro\"))\n",
    "#     print(\"Hamming loss = \",hamming_loss(y_test,y_pred_new))\n",
    "    th.append(t)\n",
    "    ac.append(accuracy_score(y_test,y_pred_new))\n",
    "    f.append(f1_score(y_test,y_pred_new, average=\"micro\"))\n",
    "    ham.append(hamming_loss(y_test,y_pred_new))\n",
    "plt.rcParams[\"figure.figsize\"] = (12,6)\n",
    "with plt.style.context('ggplot'):\n",
    "    plt.plot(th, f)\n",
    "    plt.plot(th, ham)\n",
    "    plt.plot(th, ac)\n",
    "    plt.legend(['F1', 'Hamming loss', 'Accuracy'], loc='center left', fontsize = 14)\n",
    "    plt.ylabel(\"metrics\", fontsize = 14)\n",
    "    plt.xlabel(\"threshold\", fontsize = 14)\n",
    "    plt.title(\"Classfier Chain Model\", fontsize = 18)\n",
    "plt.show()"
   ]
  },
  {
   "cell_type": "code",
   "execution_count": 12,
   "metadata": {},
   "outputs": [
    {
     "name": "stdout",
     "output_type": "stream",
     "text": [
      "ClassifierChain Accuracy =  0.27722772277227725\n",
      "ClassifierChain Precision =  0.6578249336870027\n",
      "ClassifierChain Recall =  0.6215538847117794\n",
      "ClassifierChain F1_score =  0.6391752577319588\n",
      "ClassifierChain Hamming loss =  0.23102310231023102\n"
     ]
    }
   ],
   "source": [
    "# using classifier chains\n",
    "# initialize classifier chains multi-label classifier\n",
    "classifier = ClassifierChain(LogisticRegression())\n",
    "# Training logistic regression model on train data\n",
    "classifier.fit(X_train, y_train)\n",
    "# predict\n",
    "predictions = classifier.predict(X_test)\n",
    "# accuracy\n",
    "print(\"ClassifierChain Accuracy = \",accuracy_score(y_test,predictions.toarray()))\n",
    "print(\"ClassifierChain Precision = \",precision_score(y_test,predictions, average='micro'))\n",
    "print(\"ClassifierChain Recall = \",recall_score(y_test,predictions, average='micro'))\n",
    "print(\"ClassifierChain F1_score = \",f1_score(y_test,predictions, average='micro'))\n",
    "print(\"ClassifierChain Hamming loss = \",hamming_loss(y_test,predictions))\n",
    "\n",
    "Eval6 = ['ClassifierChain_LogisticRegression',accuracy_score(y_test,predictions)*100,hamming_loss(y_test,predictions)*100,\n",
    "        f1_score(y_test,predictions, average=\"micro\")*100,]\n",
    "Evals.append(Eval6)"
   ]
  },
  {
   "cell_type": "code",
   "execution_count": 28,
   "metadata": {},
   "outputs": [],
   "source": [
    "import numpy as np\n",
    "import matplotlib.pyplot as plt\n",
    "from itertools import cycle\n",
    "\n",
    "from sklearn import svm, datasets\n",
    "from sklearn.metrics import roc_curve, auc\n",
    "from sklearn.model_selection import train_test_split\n",
    "from sklearn.preprocessing import label_binarize\n",
    "from sklearn.multiclass import OneVsRestClassifier\n",
    "from scipy import interp\n",
    "from sklearn.metrics import roc_auc_score\n",
    " \n",
    "\n"
   ]
  },
  {
   "cell_type": "code",
   "execution_count": 17,
   "metadata": {},
   "outputs": [
    {
     "name": "stdout",
     "output_type": "stream",
     "text": [
      "              precision    recall  f1-score   support\n",
      "\n",
      "           0       0.77      0.19      0.30        54\n",
      "           1       0.00      0.00      0.00        59\n",
      "           2       0.64      0.57      0.60        96\n",
      "           3       0.70      0.53      0.60        59\n",
      "           4       0.79      0.21      0.33        73\n",
      "           5       0.65      0.34      0.45        58\n",
      "\n",
      "   micro avg       0.68      0.33      0.44       399\n",
      "   macro avg       0.59      0.31      0.38       399\n",
      "weighted avg       0.60      0.33      0.40       399\n",
      " samples avg       0.40      0.32      0.34       399\n",
      "\n"
     ]
    }
   ],
   "source": [
    "# Print the confusion matrix\n",
    "from sklearn import metrics\n",
    "from sklearn.metrics import multilabel_confusion_matrix\n",
    "#print(multilabel_confusion_matrix(y_test, Logprediction))\n",
    "\n",
    "# Print the precision and recall, among other metrics\n",
    "print(metrics.classification_report(y_test, Logprediction))"
   ]
  },
  {
   "cell_type": "markdown",
   "metadata": {},
   "source": [
    "# 3.5. Multiple Binary Classifications - (One Vs Rest Classifier)\n"
   ]
  },
  {
   "cell_type": "code",
   "execution_count": 36,
   "metadata": {},
   "outputs": [
    {
     "name": "stdout",
     "output_type": "stream",
     "text": [
      "OneVsRestClassifier_LogisticRegression Accuracy =  0.6787564766839378\n",
      "OneVsRestClassifier_LogisticRegression Precision =  0.591223147545822\n",
      "OneVsRestClassifier_LogisticRegression Recall =  0.44397198300218815\n",
      "OneVsRestClassifier_LogisticRegression F1_score =  0.432089754912359\n",
      "OneVsRestClassifier_LogisticRegression Hamming loss =  0.4979372937293729\n",
      "OneVsRestClassifier_LogisticRegression Ranking_loss =  0.6260300196986933\n",
      "OneVsRestClassifier_LogisticRegression Average_Precision =  0.6260300196986933\n"
     ]
    }
   ],
   "source": [
    "from sklearn.linear_model import LogisticRegression\n",
    "from sklearn.pipeline import Pipeline\n",
    "from sklearn.metrics import accuracy_score\n",
    "from sklearn.multiclass import OneVsRestClassifier\n",
    "\n",
    "# Using pipeline for applying logistic regression and one vs rest classifier\n",
    "LogReg_pipeline = Pipeline([('clf', OneVsRestClassifier(LogisticRegression(solver='sag'), n_jobs=-1)),])\n",
    "  \n",
    "# Training logistic regression model on train data\n",
    "LogReg_pipeline.fit(X_train,y_train )\n",
    "    \n",
    "# calculating test accuracy\n",
    "Logprediction = LogReg_pipeline.predict(X_test)\n",
    "# accuracy   None, 'micro', 'macro', 'weighted', 'samples'\n",
    "\n",
    "Accuracy = accuracy_score(y_test,Logprediction)\n",
    "\n",
    "Micro_Precision = precision_score(y_test,Logprediction, average='micro')\n",
    "Micro_Recall = recall_score(y_test,Logprediction, average='micro')\n",
    "Micro_F1 = f1_score(y_test,Logprediction, average='micro')\n",
    "Micro_Average_Prec = average_precision_score(y_test.toarray(), Logprediction, average='micro')\n",
    "\n",
    "Macro_Precision = precision_score(y_test,Logprediction, average='macro')\n",
    "Macro_Recall = recall_score(y_test,Logprediction, average='macro')\n",
    "Macro_F1 = f1_score(y_test,Logprediction, average='macro')\n",
    "\n",
    "Macro_Average_Prec = average_precision_score(y_test.toarray(), Logprediction, average='macro')\n",
    "Samples_Average_Prec = average_precision_score(y_test.toarray(), Logprediction, average='samples')\n",
    "Weighted_Average_Prec = average_precision_score(y_test.toarray(), Logprediction, average='weighted')\n",
    "\n",
    "Hamming_loss = hamming_loss(y_test,Logprediction)\n",
    "Ranking_loss = label_ranking_loss(y_test, Logprediction)\n",
    "\n",
    "# Compute micro-average ROC curve and ROC area\n",
    "fpr[\"micro\"], tpr[\"micro\"], _ = roc_curve(y_test.toarray().ravel(), Logprediction.ravel())\n",
    "roc_auc[\"micro\"] = auc(fpr[\"micro\"], tpr[\"micro\"])\n",
    "\n",
    "fpr[\"macro\"], tpr[\"macro\"], _ = roc_curve(y_test.toarray().ravel(), Logprediction.ravel())\n",
    "roc_auc[\"macro\"] = auc(fpr[\"macro\"], tpr[\"macro\"])\n",
    "\n",
    "print(\"OneVsRestClassifier_LogisticRegression Accuracy = \",Micro_Precision)\n",
    "print(\"OneVsRestClassifier_LogisticRegression Precision = \",Macro_Precision)\n",
    "print(\"OneVsRestClassifier_LogisticRegression Recall = \",Micro_Average_Prec)\n",
    "print(\"OneVsRestClassifier_LogisticRegression F1_score = \",Macro_Average_Prec)\n",
    "print(\"OneVsRestClassifier_LogisticRegression Hamming loss = \",Samples_Average_Prec)\n",
    "print(\"OneVsRestClassifier_LogisticRegression Ranking_loss = \",roc_auc[\"macro\"])\n",
    "print(\"OneVsRestClassifier_LogisticRegression Average_Precision = \",roc_auc[\"micro\"])\n",
    "\n",
    "\n",
    "\n",
    "Eval7 = ['OneVsRestClassifier_LogisticRegression',Accuracy,Weighted_Average_Prec,Macro_F1,Macro_F1,Hamming_loss,Ranking_loss]\n",
    "Evals.append(Eval7)"
   ]
  },
  {
   "cell_type": "code",
   "execution_count": null,
   "metadata": {},
   "outputs": [],
   "source": []
  },
  {
   "cell_type": "code",
   "execution_count": null,
   "metadata": {},
   "outputs": [],
   "source": [
    "df = pd.DataFrame(Evals, columns=['Classifier','Accuracy','Precision','Recall','F1_score','Hamming_loss'])\n",
    "df"
   ]
  },
  {
   "cell_type": "code",
   "execution_count": null,
   "metadata": {},
   "outputs": [],
   "source": [
    "https://scikit-learn.org/stable/auto_examples/model_selection/plot_precision_recall.html#sphx-glr-auto-examples-model-selection-plot-precision-recall-py"
   ]
  },
  {
   "cell_type": "code",
   "execution_count": null,
   "metadata": {},
   "outputs": [],
   "source": [
    "https://towardsdatascience.com/multi-class-metrics-made-simple-part-i-precision-and-recall-9250280bddc2"
   ]
  },
  {
   "cell_type": "code",
   "execution_count": null,
   "metadata": {},
   "outputs": [],
   "source": [
    "import matplotlib.pyplot as plt\n",
    "from sklearn import svm, datasets\n",
    "from sklearn.model_selection import train_test_split\n",
    "from sklearn.preprocessing import label_binarize\n",
    "from sklearn.metrics import roc_curve, auc\n",
    "from sklearn.multiclass import OneVsRestClassifier\n",
    "\n",
    "iris = datasets.load_iris()\n",
    "X = iris.data\n",
    "y = iris.target\n",
    "\n",
    "# Binarize the output\n",
    "y = label_binarize(y, classes=[0, 1, 2])\n",
    "n_classes = y.shape[1]\n",
    "\n",
    "X_train, X_test, y_train, y_test = train_test_split(X, y, test_size=.5, random_state=0)\n",
    "\n",
    "classifier = OneVsRestClassifier(svm.SVC(kernel='linear', probability=True,\n",
    "                                 random_state=0))\n",
    "y_score = classifier.fit(X_train, y_train).decision_function(X_test)\n",
    "\n",
    "fpr = dict()\n",
    "tpr = dict()\n",
    "roc_auc = dict()\n",
    "for i in range(n_classes):\n",
    "    fpr[i], tpr[i], _ = roc_curve(y_test[:, i], y_score[:, i])\n",
    "    roc_auc[i] = auc(fpr[i], tpr[i])\n",
    "colors = cycle(['blue', 'red', 'green'])\n",
    "for i, color in zip(range(n_classes), colors):\n",
    "    plt.plot(fpr[i], tpr[i], color=color, lw=lw,\n",
    "             label='ROC curve of class {0} (area = {1:0.2f})'\n",
    "             ''.format(i, roc_auc[i]))\n",
    "plt.plot([0, 1], [0, 1], 'k--', lw=lw)\n",
    "plt.xlim([-0.05, 1.0])\n",
    "plt.ylim([0.0, 1.05])\n",
    "plt.xlabel('False Positive Rate')\n",
    "plt.ylabel('True Positive Rate')\n",
    "plt.title('Receiver operating characteristic for multi-class data')\n",
    "plt.legend(loc=\"lower right\")\n",
    "plt.show()"
   ]
  },
  {
   "cell_type": "code",
   "execution_count": null,
   "metadata": {},
   "outputs": [],
   "source": []
  }
 ],
 "metadata": {
  "kernelspec": {
   "display_name": "Python 3",
   "language": "python",
   "name": "python3"
  },
  "language_info": {
   "codemirror_mode": {
    "name": "ipython",
    "version": 3
   },
   "file_extension": ".py",
   "mimetype": "text/x-python",
   "name": "python",
   "nbconvert_exporter": "python",
   "pygments_lexer": "ipython3",
   "version": "3.7.3"
  }
 },
 "nbformat": 4,
 "nbformat_minor": 2
}
